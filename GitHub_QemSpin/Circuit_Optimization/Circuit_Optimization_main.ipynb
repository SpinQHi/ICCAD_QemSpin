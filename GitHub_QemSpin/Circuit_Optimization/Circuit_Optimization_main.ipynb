{
 "cells": [
  {
   "cell_type": "markdown",
   "metadata": {},
   "source": [
    "# The code is used to optimized the conventional Givens gate."
   ]
  },
  {
   "cell_type": "markdown",
   "metadata": {},
   "source": [
    "## Requirements\n",
    "<font size=5>\n",
    "\n",
    "* Python  3.9.13\n",
    "\n",
    "* Pypi(Linux x86_64) :  pip install spinqkit-0.0.2-cp39-cp39-linux_x86_64.whl"
   ]
  },
  {
   "cell_type": "code",
   "execution_count": 1,
   "metadata": {},
   "outputs": [],
   "source": [
    "import adapt_givens_ansatz as adapt_givens\n",
    "import numpy as np\n",
    "from spinqkit import generate_hamiltonian_matrix"
   ]
  },
  {
   "cell_type": "code",
   "execution_count": 2,
   "metadata": {},
   "outputs": [],
   "source": [
    "def convert_hamiltonian(filename):\n",
    "    \"\"\"\n",
    "    Converts Hamiltonian from a text file to SpinQit format.\n",
    "    \n",
    "    Parameters:\n",
    "    filename (str): Path to the text file containing the Hamiltonian.\n",
    "\n",
    "    Returns:\n",
    "    list: A list of tuples where each tuple contains a variable and its corresponding coefficient.\n",
    "    \"\"\"\n",
    "    hamiltonian = []\n",
    "    \n",
    "    with open(filename, \"r\") as file:\n",
    "        lines = file.readlines()\n",
    "\n",
    "        for line in lines:\n",
    "            line = line.strip()\n",
    "            \n",
    "            # Remove the \"+\" at the start of the line\n",
    "            if line.startswith(\"+\"):\n",
    "                line = line[1:]\n",
    "                \n",
    "            coefficient, variable = line.split(\"*\")\n",
    "            \n",
    "            # Remove spaces in the coefficient\n",
    "            coefficient = coefficient.strip().replace(\" \", \"\")\n",
    "            \n",
    "            variable = variable.strip()\n",
    "            \n",
    "            # If the coefficient starts with \"-\", remove it and add \"-\" to the start\n",
    "            if coefficient.startswith(\"-\"):\n",
    "                coefficient = coefficient[1:]\n",
    "                coefficient = \"-\" + coefficient \n",
    "            \n",
    "            hamiltonian.append((variable, float(coefficient)))\n",
    "            \n",
    "    return hamiltonian\n",
    "\n",
    "# Example usage:\n",
    "filename = \"OHhamiltonian.txt\"  # Replace with your file path\n",
    "hamiltonian = convert_hamiltonian(filename)"
   ]
  },
  {
   "cell_type": "code",
   "execution_count": 3,
   "metadata": {},
   "outputs": [],
   "source": [
    "# Generate the Hamiltonian matrix\n",
    "hamiltonian_matrix = generate_hamiltonian_matrix(hamiltonian)\n",
    "\n",
    "# Set the number of active electrons\n",
    "active_electrons = 9  \n",
    "\n",
    "# Set the number of iterations\n",
    "ITR = 1\n",
    "\n",
    "# Set verbose mode (print progress or not)\n",
    "verbose = False \n",
    "\n",
    "# Set the type of optimizer\n",
    "opt_type = 'torch'\n",
    "\n",
    "# Set the learning rate\n",
    "learning_rate = 0.03\n",
    "\n",
    "# Initialize parameters\n",
    "params = None\n",
    "\n",
    "# Set the random seed for reproducibility\n",
    "seed = 10\n"
   ]
  },
  {
   "cell_type": "markdown",
   "metadata": {},
   "source": [
    "* Optimize and obtain sequences of single excited state gates and double excited state gates."
   ]
  },
  {
   "cell_type": "code",
   "execution_count": 4,
   "metadata": {},
   "outputs": [
    {
     "name": "stderr",
     "output_type": "stream",
     "text": [
      "/home/dev/anaconda3/envs/spinqkit_torch/lib/python3.9/site-packages/torch/autograd/__init__.py:197: UserWarning: CUDA initialization: CUDA unknown error - this may be due to an incorrectly set up environment, e.g. changing env variable CUDA_VISIBLE_DEVICES after program start. Setting the available devices to be zero. (Triggered internally at ../c10/cuda/CUDAFunctions.cpp:109.)\n",
      "  Variable._execution_engine.run_backward(  # Calls into the C++ engine to run the backward pass\n"
     ]
    },
    {
     "name": "stdout",
     "output_type": "stream",
     "text": [
      "Adapt_givens_singles_list = [[6, 10]]\n",
      "\n",
      "Adapt_givens_doubles_list = [[1, 2, 10, 11]]\n",
      "\n"
     ]
    }
   ],
   "source": [
    "\"\"\"\n",
    "Optimize and obtain sequences of single excited state gates and double excited state gates.\n",
    "\"\"\"\n",
    "summary_loss_givens, cir_information_givens \\\n",
    "           = adapt_givens.train_givens_vqe(hamiltonian_list=hamiltonian_matrix, electrons_num=active_electrons,\n",
    "                            givens_type='adapt', learning_rate=learning_rate, itr_num=ITR, delta_sz_list=[0], verbose=verbose, opt_type=opt_type, seed=seed)\n",
    "\n",
    "Adapt_givens_singles_list = cir_information_givens['singles_list']\n",
    "Adapt_givens_doubles_list = cir_information_givens['doubles_list']\n",
    "print(f'Adapt_givens_singles_list = {Adapt_givens_singles_list}\\n')\n",
    "print(f'Adapt_givens_doubles_list = {Adapt_givens_doubles_list}\\n')           "
   ]
  },
  {
   "cell_type": "markdown",
   "metadata": {},
   "source": [
    "* Obtain sequences of single excited state gates and double excited state gates in conventional Givens gate."
   ]
  },
  {
   "cell_type": "code",
   "execution_count": 5,
   "metadata": {},
   "outputs": [
    {
     "name": "stdout",
     "output_type": "stream",
     "text": [
      "Conventional_givens_singles_list = [[0, 10], [1, 9], [1, 11], [2, 10], [3, 9], [3, 11], [4, 10], [5, 9], [5, 11], [6, 10], [7, 9], [7, 11], [8, 10]]\n",
      "\n",
      "Conventional_givens_doubles_list = [[0, 1, 9, 10], [0, 1, 10, 11], [0, 3, 9, 10], [0, 3, 10, 11], [0, 5, 9, 10], [0, 5, 10, 11], [0, 7, 9, 10], [0, 7, 10, 11], [1, 2, 9, 10], [1, 2, 10, 11], [1, 3, 9, 11], [1, 4, 9, 10], [1, 4, 10, 11], [1, 5, 9, 11], [1, 6, 9, 10], [1, 6, 10, 11], [1, 7, 9, 11], [1, 8, 9, 10], [1, 8, 10, 11], [2, 3, 9, 10], [2, 3, 10, 11], [2, 5, 9, 10], [2, 5, 10, 11], [2, 7, 9, 10], [2, 7, 10, 11], [3, 4, 9, 10], [3, 4, 10, 11], [3, 5, 9, 11], [3, 6, 9, 10], [3, 6, 10, 11], [3, 7, 9, 11], [3, 8, 9, 10], [3, 8, 10, 11], [4, 5, 9, 10], [4, 5, 10, 11], [4, 7, 9, 10], [4, 7, 10, 11], [5, 6, 9, 10], [5, 6, 10, 11], [5, 7, 9, 11], [5, 8, 9, 10], [5, 8, 10, 11], [6, 7, 9, 10], [6, 7, 10, 11], [7, 8, 9, 10], [7, 8, 10, 11]]\n",
      "\n"
     ]
    }
   ],
   "source": [
    "\"\"\"\n",
    "Obtain sequences of single excited state gates and double excited state gates in conventional Givens gate.\n",
    "\"\"\"\n",
    "summary_loss_normal_givens, cir_information_normal_givens \\\n",
    "           = adapt_givens.train_givens_vqe(hamiltonian_list=hamiltonian_matrix, electrons_num=active_electrons,\n",
    "                            givens_type='normal', learning_rate=learning_rate, itr_num=ITR, delta_sz_list=[0], verbose=verbose, opt_type=opt_type, seed=seed)\n",
    "Conventional_givens_singles_list = cir_information_normal_givens['singles_list']\n",
    "Conventional_givens_doubles_list = cir_information_normal_givens['doubles_list']\n",
    "print(f'Conventional_givens_singles_list = {Conventional_givens_singles_list}\\n')\n",
    "print(f'Conventional_givens_doubles_list = {Conventional_givens_doubles_list}\\n')                "
   ]
  }
 ],
 "metadata": {
  "kernelspec": {
   "display_name": "spinqkit_torch",
   "language": "python",
   "name": "python3"
  },
  "language_info": {
   "codemirror_mode": {
    "name": "ipython",
    "version": 3
   },
   "file_extension": ".py",
   "mimetype": "text/x-python",
   "name": "python",
   "nbconvert_exporter": "python",
   "pygments_lexer": "ipython3",
   "version": "3.9.13"
  },
  "orig_nbformat": 4
 },
 "nbformat": 4,
 "nbformat_minor": 2
}
