{
 "cells": [
  {
   "cell_type": "markdown",
   "metadata": {},
   "source": [
    "<h1>Team: QemSpin <h1>\n",
    "<h1>Last updated: 8th October 2023.<h1>"
   ]
  },
  {
   "cell_type": "markdown",
   "metadata": {},
   "source": [
    "#  Introduction to our work"
   ]
  },
  {
   "cell_type": "markdown",
   "metadata": {},
   "source": [
    "<font size=5>\n",
    "1: Circuit Optimization. The conventional Givens gate encompasses both single and double excitation gates, thereby ensuring the conservation of particle numbers, that is, the Hamming weight of the quantum state remains consistent(i.e. 9 for OH). However, this comprehensiveness also escalates the simulation cost substantially. To enhance efficiency, we optimized the conventional Givens gate by eliminating the minimal contributions from both single and double excitation states. <br>\n",
    "\n",
    "2: Error mitigation. We used VQE to calculate the energy values of the three quantum circuits, and linearly fitted the obtained energy values, extrapolating them to the energy values without noise."
   ]
  },
  {
   "cell_type": "markdown",
   "metadata": {},
   "source": [
    "## 1 Circuit Optimization.\n",
    "<font size=5>\n",
    "\n",
    "* We implement it on the SpinQit platform. As the result, we optimized the number of single excited state gates from 13 to 1, and the number of double excited state gates from 46 to 1.\n",
    "\n",
    "* Please refer to Chosed_Adapt_Givens_Ansatz for the results.\n",
    "\n",
    "### 1.1 The optimized circuit.\n",
    "<div align=left><img src=\"IMG/Optimized_Circuit.png\" width=800 length=800></div>"
   ]
  },
  {
   "cell_type": "markdown",
   "metadata": {},
   "source": [
    "## 1.2 The results of a circuit with and without noise."
   ]
  },
  {
   "cell_type": "code",
   "execution_count": null,
   "metadata": {},
   "outputs": [],
   "source": [
    "from datetime import datetime\n",
    "\n",
    "import numpy as np\n",
    "import time\n",
    "\n",
    "from qiskit_nature.units import DistanceUnit\n",
    "from qiskit_nature.second_q.drivers import PySCFDriver\n",
    "from qiskit_nature.second_q.mappers import JordanWignerMapper,ParityMapper,QubitConverter\n",
    "from qiskit.algorithms.minimum_eigensolvers import VQE\n",
    "from qiskit_nature.second_q.algorithms import GroundStateEigensolver\n",
    "from qiskit.algorithms.optimizers import *  \n",
    "\n",
    "\n",
    "from Estimator_with_noise import estimator_noise\n",
    "from Estimator_without_noise import estimator_expect\n",
    "from Ansatz import Adapt_Givens_Ansatz\n",
    "from Noise_models import fakecairo, fakekolkata, fakemontreal\n"
   ]
  },
  {
   "cell_type": "code",
   "execution_count": null,
   "metadata": {},
   "outputs": [],
   "source": [
    "# Set up molecule\n",
    "ultra_simplified_ala_string = \"\"\"\n",
    "O 0.0 0.0 0.0\n",
    "H 0.45 -0.1525 -0.8454\n",
    "\"\"\"\n",
    "driver = PySCFDriver(\n",
    "    atom=ultra_simplified_ala_string.strip(),\n",
    "    basis='sto3g',\n",
    "    charge=1,\n",
    "    spin=0,\n",
    "    unit=DistanceUnit.ANGSTROM\n",
    ")\n",
    "qmolecule = driver.run()\n",
    "mapper = JordanWignerMapper()"
   ]
  },
  {
   "cell_type": "code",
   "execution_count": null,
   "metadata": {},
   "outputs": [],
   "source": [
    "# Set up VQE\n",
    "seed_pool = [20, 21, 30, 33, 36, 42, 43, 55, 67, 170]\n",
    "noise_word = ['fakecairo','fakekolkata','fakemontreal']\n",
    "ansatz = Adapt_Givens_Ansatz()\n",
    "optimizer = COBYLA(maxiter=100)\n",
    "ground_energy = -74.38714627\n",
    "shots = 6000"
   ]
  },
  {
   "cell_type": "markdown",
   "metadata": {},
   "source": [
    "## 1.2.1 Computed the ground energy without noise"
   ]
  },
  {
   "cell_type": "code",
   "execution_count": null,
   "metadata": {},
   "outputs": [],
   "source": [
    "average_error_rate, average_times = 0, 0\n",
    "\n",
    "seed = 20\n",
    "    \n",
    "# Callback to store intermediate results during optimization\n",
    "parameters_list = []\n",
    "values = []\n",
    "last_call_time = None\n",
    "\n",
    "def callback(eval_count, parameters, mean, std):\n",
    "    global last_call_time\n",
    "    current_call_time = datetime.now()\n",
    "    if last_call_time is not None:\n",
    "        print(f\"Cost Time: {current_call_time - last_call_time}\")\n",
    "\n",
    "    last_call_time = current_call_time\n",
    "    parameters_list.append(parameters)\n",
    "    values.append(mean)\n",
    "    print(f'iter: {len(parameters_list)}, loss: {mean}, params: {parameters}')        \n",
    "    \n",
    "estimator = estimator_expect(seed, shots)\n",
    "\n",
    "vqe_solver = VQE(estimator, ansatz, optimizer, callback=callback)\n",
    "vqe_solver.initial_point = [0.0] * ansatz.num_parameters\n",
    "\n",
    "calc = GroundStateEigensolver(mapper, vqe_solver)\n",
    "\n",
    "start_time = time.time()\n",
    "res = calc.solve(qmolecule)\n",
    "end_time = time.time()\n",
    "\n",
    "cost_time = end_time - start_time\n",
    "result = res.computed_energies + res.nuclear_repulsion_energy\n",
    "error_rate = abs((ground_energy - result) / ground_energy * 100)\n",
    "\n",
    "with open(f'Documents/Data_Without_Noise/Exact_expect_Adapt_Givens_COBYLA.txt'.format(),\"a\") as f:\n",
    "    f.write(f'seeds = {seed},Time = {cost_time}, '\n",
    "                f'energy = {res.computed_energies}, Error rate: {error_rate},parameters = {parameters_list[-1]} '\n",
    "                f'optimizer = COBYLA, Ansatz = Adapt_Givens \\n')"
   ]
  },
  {
   "cell_type": "markdown",
   "metadata": {},
   "source": [
    "## 1.2.2 Computed the ground energy with noise."
   ]
  },
  {
   "cell_type": "code",
   "execution_count": null,
   "metadata": {},
   "outputs": [],
   "source": [
    "## Computed the ground energy with noise\n",
    "for index, noise in enumerate(noise_word):\n",
    "    noise_model = globals()[noise]()\n",
    "    average_error_rate, average_times = 0, 0\n",
    "    \n",
    "    for seed in seed_pool:\n",
    "        print(f'\\n Seed = {seed}, Noise model = {noise}')\n",
    "\n",
    "\n",
    "        # Callback to store intermediate results during optimization\n",
    "        parameters_list = []\n",
    "        values = []\n",
    "        last_call_time = None\n",
    "\n",
    "\n",
    "        def callback(eval_count, parameters, mean, std):\n",
    "            global last_call_time\n",
    "            current_call_time = datetime.now()\n",
    "            if last_call_time is not None:\n",
    "                print(f\"Cost Time: {current_call_time - last_call_time}\")\n",
    "\n",
    "            last_call_time = current_call_time\n",
    "            parameters_list.append(parameters)\n",
    "            values.append(mean)\n",
    "            print(f'iter: {len(parameters_list)}, loss: {mean}, params: {parameters}')        \n",
    "            \n",
    "        estimator = estimator_noise(seed, shots, noise_model)\n",
    "        \n",
    "        vqe_solver = VQE(estimator, ansatz, optimizer, callback=callback)\n",
    "        vqe_solver.initial_point = [0.0] * ansatz.num_parameters\n",
    "        \n",
    "        calc = GroundStateEigensolver(mapper, vqe_solver)\n",
    "        \n",
    "        start_time = time.time()\n",
    "        res = calc.solve(qmolecule)\n",
    "        end_time = time.time()\n",
    "        \n",
    "        cost_time = end_time - start_time\n",
    "        result = res.computed_energies + res.nuclear_repulsion_energy\n",
    "        error_rate = abs((ground_energy - result) / ground_energy * 100)\n",
    "        \n",
    "        with open(f'Documents/Data_With_Noise/noise_{noise}_Adapt_Givens_COBYLA.txt'.format(),\"a\") as f:\n",
    "            f.write(f'Noise_model: {noise}, seeds = {seed},Time = {cost_time}, '\n",
    "                     f'energy = {res.computed_energies}, Error rate: {error_rate},parameters = {parameters_list[-1]} '\n",
    "                     f'optimizer = COBYLA, Ansatz = Adapt_Givens \\n')\n",
    "            \n",
    "        average_error_rate += error_rate\n",
    "        average_times += cost_time\n",
    "        \n",
    "    # with open(f'Documents/noise_{noise}_Adapt_Givens_COBYLA.txt'.format(),\"a\") as f:\n",
    "    #     f.write(f'Noise_model: {noise}, optimizer = COBYLA, Average_Time = {average_times / len(seed_pool)}, '\n",
    "    #              f'Average Error rate: {average_error_rate/len(seed_pool)}\\n')\n"
   ]
  },
  {
   "cell_type": "markdown",
   "metadata": {},
   "source": [
    "## 2： Error mitigation."
   ]
  },
  {
   "cell_type": "markdown",
   "metadata": {},
   "source": [
    "### 2.1 We used VQE to calculate the energy values of the following three quantum circuits, and linearly fitted the obtained energy values, extrapolating them to the energy values without noise.\n",
    "<font size=5>\n",
    "\n",
    "* Scale one: \n",
    "<div align=left><img src=\"IMG/scale_one.png\" width=800 length=800></div>\n",
    "\n",
    "* Scale three: \n",
    "<div align=left><img src=\"IMG/scale_three.png\" width=800 length=800></div>\n",
    "\n",
    "* Scale five: \n",
    "<div align=left><img src=\"IMG/scale_five.png\" width=800 length=800></div>"
   ]
  },
  {
   "cell_type": "markdown",
   "metadata": {},
   "source": [
    "## 2.2 Data Fitting"
   ]
  },
  {
   "cell_type": "code",
   "execution_count": null,
   "metadata": {},
   "outputs": [],
   "source": [
    "import numpy as np\n",
    "from scipy.optimize import curve_fit\n",
    "import matplotlib.pyplot as plt\n",
    "noise_word = ['fakecairo','fakekolkata','fakemontreal']\n",
    "\n",
    "for noise in noise_word:\n",
    "    # 原始数据点\n",
    "    x = np.array([1, 3, 5])\n",
    "    y = np.load(f'Documents/Error_mitigation_data/{noise}_seed_20.npy')\n",
    "\n",
    "    # 定义指数函数模型\n",
    "    def model(x, a, b ):\n",
    "        return a * np.exp(b * x)\n",
    "\n",
    "    # 进行指数拟合\n",
    "    popt, pcov = curve_fit(model, x, y)\n",
    "    a, b  = popt\n",
    "\n",
    "    # 打印拟合参数\n",
    "    print(f\"The coefficients are: a={a}, b={b}\")\n",
    "\n",
    "    value_at_zero = model(0, a, b)\n",
    "    print(f'The energy with non-noise in {noise} model: ,{value_at_zero} \\n')\n",
    "\n",
    "    # 生成用于绘制拟合函数的数据点\n",
    "    x_plot = np.linspace(0, 5, 1000)\n",
    "    y_plot = model(x_plot, a, b)\n",
    "\n",
    "    # 绘制原始数据点\n",
    "    plt.plot(x, y, 'o', label='Original data')\n",
    "\n",
    "    # 绘制拟合曲线\n",
    "    plt.plot(x_plot, y_plot, 'r-', label='Fitted Curve')\n",
    "\n",
    "    plt.title(f'Noise model: {noise}')\n",
    "    plt.xlabel('Scale')\n",
    "    plt.ylabel('Energy')\n",
    "    plt.legend()\n",
    "    plt.savefig(f'IMG/Data_Fitting/{noise}_seed_20.png')\n",
    "    plt.show()"
   ]
  },
  {
   "cell_type": "markdown",
   "metadata": {},
   "source": [
    "# Conclusion"
   ]
  },
  {
   "cell_type": "markdown",
   "metadata": {},
   "source": [
    "- Average error rate under noise-free conditions and  with noise\n",
    "<div align=left><img src=\"IMG/Average error rate under noise-free conditions and  with noise.png\" width=800 length=800></div>\n",
    "\n",
    "- Error rate with noise and under error mitigaion while seed is 20 \n",
    "<div align=left><img src=\"IMG/Error rate  with noise and under mitigation while seed is 20.png\" width=800 length=800></div>"
   ]
  },
  {
   "cell_type": "markdown",
   "metadata": {},
   "source": []
  }
 ],
 "metadata": {
  "kernelspec": {
   "display_name": "Qikist_Chemistry",
   "language": "python",
   "name": "python3"
  },
  "language_info": {
   "codemirror_mode": {
    "name": "ipython",
    "version": 3
   },
   "file_extension": ".py",
   "mimetype": "text/x-python",
   "name": "python",
   "nbconvert_exporter": "python",
   "pygments_lexer": "ipython3",
   "version": "3.11.5"
  },
  "orig_nbformat": 4
 },
 "nbformat": 4,
 "nbformat_minor": 2
}
